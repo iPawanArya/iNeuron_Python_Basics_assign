{
 "cells": [
  {
   "cell_type": "markdown",
   "id": "06d70d1f",
   "metadata": {},
   "source": [
    "1. What are escape characters, and how do you use them? \n",
    "escape character is a backslah ( \\ ) followed by character we want to insert. \n",
    "Eg. \\n, \\t \n",
    "2. What do the escape characters n and t stand for? \n",
    "\\n means next line, \\t means tab \n",
    "3. What is the way to include backslash characters in a string? \n",
    "We have to use ‘\\\\’ within the string. \n",
    "4. The string \"Howl's Moving Castle\" is a correct value. Why isn't the single quote character in the word Howl's not escaped a problem? \n",
    "Because we are using double quotes for the complete sentence. \n",
    "5. How do you write a string of newlines if you don't want to use the n character? \n",
    "We have to use triple quotes(‘’’…..’’’) for the text. \n",
    "6. What are the values of the given expressions?\n",
    "'Hello, world!'[1] ‘e’ \n",
    "'Hello, world!'[0:5] ‘hell’\n",
    "'Hello, world!'[:5] ‘hell’ \n",
    "'Hello, world!'[3:] ‘lo, world!’\n",
    "\n",
    "7. What are the values of the following expressions?\n",
    "'Hello'.upper() HELLO \n",
    "'Hello'.upper().isupper() True \n",
    "'Hello'.upper().lower() False \n",
    "8. What are the values of the following expressions?\n",
    "'Remember, remember, the fifth of July.'.split()\n",
    "['Remember,', 'remember,', 'the', 'fifth', 'of', 'July.']\n",
    "\n",
    "'-'.join('There can only one.'.split()) 'There-can-only-one.'\n",
    "\n",
    "9. What are the methods for right-justifying, left-justifying, and centering a string?\n",
    "Centre(len,char), ljust(len,char), rjust(len,char), \n",
    "\n",
    "\n",
    "10. What is the best way to remove whitespace characters from the start or end? \n",
    "String.strip()\n",
    "\n"
   ]
  }
 ],
 "metadata": {
  "kernelspec": {
   "display_name": "Python 3 (ipykernel)",
   "language": "python",
   "name": "python3"
  },
  "language_info": {
   "codemirror_mode": {
    "name": "ipython",
    "version": 3
   },
   "file_extension": ".py",
   "mimetype": "text/x-python",
   "name": "python",
   "nbconvert_exporter": "python",
   "pygments_lexer": "ipython3",
   "version": "3.9.7"
  },
  "toc": {
   "base_numbering": 1,
   "nav_menu": {},
   "number_sections": true,
   "sideBar": true,
   "skip_h1_title": false,
   "title_cell": "Table of Contents",
   "title_sidebar": "Contents",
   "toc_cell": false,
   "toc_position": {},
   "toc_section_display": true,
   "toc_window_display": false
  }
 },
 "nbformat": 4,
 "nbformat_minor": 5
}
