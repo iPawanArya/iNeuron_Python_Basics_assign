{
 "cells": [
  {
   "cell_type": "code",
   "execution_count": null,
   "id": "4552d13a",
   "metadata": {},
   "outputs": [],
   "source": [
    "1. What does an empty dictionary's code look like? \n",
    "Mydict = {}\n",
    "\n",
    "2. What is the value of a dictionary value with the key 'foo' and the value 42? \n",
    "42\n",
    "\n",
    "3. What is the most significant distinction between a dictionary and a list? \n",
    "Dictionary is an unordered data structure. It stores data in key and value pair. List is an ordered data structure. \n",
    "\n",
    "4. What happens if you try to access spam['foo'] if spam is {'bar': 100}?\n",
    "Key error \n",
    "\n",
    "5. If a dictionary is stored in spam, what is the difference between the expressions 'cat' in spam and 'cat' in spam.keys()? \n",
    "In this case ‘cat’ is a key.\n",
    "\n",
    "6. If a dictionary is stored in spam, what is the difference between the expressions 'cat' in spam and 'cat' in spam.values()? \n",
    "In this case ‘cat’ is a  value of some key.\n",
    "\n",
    "7. What is a shortcut for the following code?\n",
    "if 'color' not in spam:\n",
    "spam['color'] = 'black' \n",
    "\n",
    "we do not need if statement here. We can directly call the expression spam[‘color’]=’black’. \n",
    "If ‘color’ key already exists then it will update the value otherwise it generate the value with this key. \n",
    "\n",
    "8. How do you \"pretty print\" dictionary values using which module and function? \n",
    "Import pprint as pp \n",
    "pp.print(dict1) \n",
    "\n"
   ]
  }
 ],
 "metadata": {
  "kernelspec": {
   "display_name": "Python 3 (ipykernel)",
   "language": "python",
   "name": "python3"
  },
  "language_info": {
   "codemirror_mode": {
    "name": "ipython",
    "version": 3
   },
   "file_extension": ".py",
   "mimetype": "text/x-python",
   "name": "python",
   "nbconvert_exporter": "python",
   "pygments_lexer": "ipython3",
   "version": "3.9.7"
  },
  "toc": {
   "base_numbering": 1,
   "nav_menu": {},
   "number_sections": true,
   "sideBar": true,
   "skip_h1_title": false,
   "title_cell": "Table of Contents",
   "title_sidebar": "Contents",
   "toc_cell": false,
   "toc_position": {},
   "toc_section_display": true,
   "toc_window_display": false
  }
 },
 "nbformat": 4,
 "nbformat_minor": 5
}
