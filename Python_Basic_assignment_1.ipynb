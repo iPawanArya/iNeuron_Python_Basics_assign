{
 "cells": [
  {
   "cell_type": "markdown",
   "id": "e07bdfd6",
   "metadata": {},
   "source": [
    "# 1. In the below elements which of them are values or an expression? eg:- values can be integer or string and expressions will be mathematical operators.\n",
    "* Expression\n",
    "'hello' Value\n",
    "-87.8 Value\n",
    "- Expression\n",
    "/  Expression\n",
    "+\tExpression\n",
    "6 Value\n"
   ]
  },
  {
   "cell_type": "markdown",
   "id": "f70106e6",
   "metadata": {},
   "source": [
    "# 2. What is the difference between string and variable?\n",
    "\n",
    "String is one of the data types in python to store text data elements. For example, ‘India’, ‘Pawan’ etc.\n",
    "Variable is like container in python. It is used to store one or multiple data elements in a number of ways.\n"
   ]
  },
  {
   "cell_type": "markdown",
   "id": "30329dd0",
   "metadata": {},
   "source": [
    "# 3. Describe three different data types.\n",
    "\n",
    "Integer- to store discrete numerical value \n",
    "\n",
    "Float- to store numerical continuous value \n",
    "\n",
    "String- to store text value \n"
   ]
  },
  {
   "cell_type": "markdown",
   "id": "b51c6c68",
   "metadata": {},
   "source": [
    "# 4. What is an expression made up of? What do all expressions do?\n",
    "Expressions are made up of different symbols. They are like mathematical operators. They help in mathematical computation. \n",
    "We have +, -, /, *, %\n"
   ]
  },
  {
   "cell_type": "markdown",
   "id": "318f94f5",
   "metadata": {},
   "source": [
    "# 5. This assignment statements, like spam = 10. What is the difference between an expression and a statement? \n",
    "Expression is the operator. In this example = is the expression. It is also called assignment operator. \n",
    "And the whole line is the statement. Here, 10 is assigned to the variable named as spam.\n"
   ]
  },
  {
   "cell_type": "markdown",
   "id": "23de8eff",
   "metadata": {},
   "source": [
    "# 6. After running the following code, what does the variable bacon contain?\n",
    "bacon = 22\n",
    "\n",
    "bacon + 1 \n",
    "\n",
    "still 22 because we are not assigning the incremented value to the variable.\n"
   ]
  },
  {
   "cell_type": "markdown",
   "id": "16801c14",
   "metadata": {},
   "source": [
    "# 7. What should the values of the following two terms be?\n",
    "'spam' + 'spamspam' 'spamspamspam'\n",
    "\n",
    "'spam' * 3 'spamspamspam'\n"
   ]
  },
  {
   "cell_type": "markdown",
   "id": "e35b347b",
   "metadata": {},
   "source": [
    "# 8. Why is eggs a valid variable name while 100 is invalid? \n",
    "100 is starting with numerical value which is not an accurate way of naming variables.\n"
   ]
  },
  {
   "cell_type": "markdown",
   "id": "c90be2ab",
   "metadata": {},
   "source": [
    "# 9. What three functions can be used to get the integer, floating-point number, or string version of a value? \n",
    "int(), float(), str()\n"
   ]
  },
  {
   "cell_type": "markdown",
   "id": "586b880f",
   "metadata": {},
   "source": [
    "# 10. Why does this expression cause an error? How can you fix it?\n",
    "'I have eaten ' + 99 + ' burritos.' \n",
    "We cannot concat string and integer. Use ‘99’ instead of 99.\n"
   ]
  },
  {
   "cell_type": "code",
   "execution_count": null,
   "id": "6a0f01fd",
   "metadata": {},
   "outputs": [],
   "source": []
  }
 ],
 "metadata": {
  "kernelspec": {
   "display_name": "Python 3 (ipykernel)",
   "language": "python",
   "name": "python3"
  },
  "language_info": {
   "codemirror_mode": {
    "name": "ipython",
    "version": 3
   },
   "file_extension": ".py",
   "mimetype": "text/x-python",
   "name": "python",
   "nbconvert_exporter": "python",
   "pygments_lexer": "ipython3",
   "version": "3.9.7"
  },
  "toc": {
   "base_numbering": 1,
   "nav_menu": {},
   "number_sections": true,
   "sideBar": true,
   "skip_h1_title": false,
   "title_cell": "Table of Contents",
   "title_sidebar": "Contents",
   "toc_cell": false,
   "toc_position": {},
   "toc_section_display": true,
   "toc_window_display": false
  }
 },
 "nbformat": 4,
 "nbformat_minor": 5
}
