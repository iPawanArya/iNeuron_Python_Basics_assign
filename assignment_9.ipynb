{
 "cells": [
  {
   "cell_type": "code",
   "execution_count": null,
   "id": "f6f40815",
   "metadata": {},
   "outputs": [],
   "source": [
    "1.\tTo what does a relative path refer? \n",
    "Relative path refers to the current working directory. We use dot(.) to represent the same directory and double dot (..) to move to the upper hierarchy.  \n",
    "\n",
    "We cannot jump to different directory through relative path. \n",
    "2. What does an absolute path start with your operating system? \n",
    "From the root directory \n",
    "2.\tWhat do the functions os.getcwd() and os.chdir() do? \n",
    "os.getcwd() returns current working directory. \n",
    "\n",
    "os.chdir(path) is used to change the current directory to given path. \n",
    "4. What are the . and .. folders? \n",
    "Dot(.) means current directory and double dot(..) means upper hierarchy directory.\n",
    "5. In C:\\bacon\\eggs\\spam.txt, which part is the dir name, and which part is the base name? b\n",
    "C:\\bacon\\eggs is dir \n",
    "Spam.txt is base name. \n",
    "6. What are the three “mode” arguments that can be passed to the open() function? \n",
    "Read(r), write(w), read and write(r+)\n",
    "7. What happens if an existing file is opened in write mode? \n",
    "It allows to write in that file. \n",
    "8. How do you tell the difference between read() and readlines()? \n",
    "Read() method reads the complete file at once and then return the first character based on the specified length whereas readlines() sequentially  read the lines. \n",
    "9. What data structure does a shelf value resemble? \n",
    "Dictionary \n",
    "\n",
    "\n"
   ]
  }
 ],
 "metadata": {
  "kernelspec": {
   "display_name": "Python 3 (ipykernel)",
   "language": "python",
   "name": "python3"
  },
  "language_info": {
   "codemirror_mode": {
    "name": "ipython",
    "version": 3
   },
   "file_extension": ".py",
   "mimetype": "text/x-python",
   "name": "python",
   "nbconvert_exporter": "python",
   "pygments_lexer": "ipython3",
   "version": "3.9.7"
  },
  "toc": {
   "base_numbering": 1,
   "nav_menu": {},
   "number_sections": true,
   "sideBar": true,
   "skip_h1_title": false,
   "title_cell": "Table of Contents",
   "title_sidebar": "Contents",
   "toc_cell": false,
   "toc_position": {},
   "toc_section_display": true,
   "toc_window_display": false
  }
 },
 "nbformat": 4,
 "nbformat_minor": 5
}
